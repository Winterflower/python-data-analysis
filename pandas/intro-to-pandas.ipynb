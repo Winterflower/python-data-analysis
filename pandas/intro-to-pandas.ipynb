{
 "metadata": {
  "name": "",
  "signature": "sha256:23a5c1ff44ed2ca6622ea8be44ab898d3e4f2176577443aca8fe845075955bab"
 },
 "nbformat": 3,
 "nbformat_minor": 0,
 "worksheets": [
  {
   "cells": [
    {
     "cell_type": "heading",
     "level": 1,
     "metadata": {},
     "source": [
      "Introduction to Pandas"
     ]
    },
    {
     "cell_type": "markdown",
     "metadata": {},
     "source": [
      "This notebook contains notes and code from the [Intro to Data Structures](http://pandas.pydata.org/pandas-docs/stable/dsintro.html#dsintro) tutorial. "
     ]
    },
    {
     "cell_type": "code",
     "collapsed": false,
     "input": [
      "#importing necessary libraries\n",
      "import pandas as pd\n",
      "import numpy as np\n",
      "#assign the numpy.random module to an easier name\n",
      "randn=np.random.randn"
     ],
     "language": "python",
     "metadata": {},
     "outputs": [],
     "prompt_number": 7
    },
    {
     "cell_type": "markdown",
     "metadata": {},
     "source": [
      "## Pandas Series\n",
      "Pandas series is a one-dimensional labeled array. The labels are called the index."
     ]
    },
    {
     "cell_type": "code",
     "collapsed": false,
     "input": [
      "#creating a series from an ndarray\n",
      "\n",
      "some_data=randn(10)\n",
      "print some_data\n",
      "some_series=pd.Series(some_data)\n",
      "print \"Series\"\n",
      "print some_series\n",
      "\n",
      "#since no index was passed, Pandas will automatically create one\n"
     ],
     "language": "python",
     "metadata": {},
     "outputs": [
      {
       "output_type": "stream",
       "stream": "stdout",
       "text": [
        "[ 1.11219349  2.37529844 -0.88139575 -0.26890019 -0.36775437 -0.30117868\n",
        "  0.82563313  2.23098351  1.00099504  0.12076793]\n",
        "Series\n",
        "0    1.112193\n",
        "1    2.375298\n",
        "2   -0.881396\n",
        "3   -0.268900\n",
        "4   -0.367754\n",
        "5   -0.301179\n",
        "6    0.825633\n",
        "7    2.230984\n",
        "8    1.000995\n",
        "9    0.120768\n",
        "dtype: float64\n"
       ]
      }
     ],
     "prompt_number": 8
    },
    {
     "cell_type": "code",
     "collapsed": false,
     "input": [
      "# we can also pass in a custom index. This needs to be a Python list.\n",
      "\n",
      "series_2=pd.Series(randn(3),index=['a','b','c'])\n",
      "print \"Series with an index\"\n",
      "print series_2\n"
     ],
     "language": "python",
     "metadata": {},
     "outputs": [
      {
       "output_type": "stream",
       "stream": "stdout",
       "text": [
        "Series with an index\n",
        "a    0.134382\n",
        "b   -0.213603\n",
        "c    0.209724\n",
        "dtype: float64\n"
       ]
      }
     ],
     "prompt_number": 11
    },
    {
     "cell_type": "code",
     "collapsed": false,
     "input": [
      "# Non-unique indices\n",
      "#Since 0.8.0, pandas supports non-unique indices in Series. Let's try this out.\n",
      "\n",
      "series_non_unique_indices=pd.Series(randn(3), index=['a','a','a'])\n",
      "print \"Series with a non-unique index\"\n",
      "print series_non_unique_indices\n"
     ],
     "language": "python",
     "metadata": {},
     "outputs": [
      {
       "output_type": "stream",
       "stream": "stdout",
       "text": [
        "Series with a non-unique index\n",
        "a    0.239697\n",
        "a   -0.444755\n",
        "a    1.570652\n",
        "dtype: float64\n"
       ]
      }
     ],
     "prompt_number": 13
    },
    {
     "cell_type": "code",
     "collapsed": false,
     "input": [
      "#Constructing a Pandas series from a dictionary\n",
      "#the Python dict contains mappings of type index:value\n",
      "\n",
      "series_dict={'a':randn(), 'b':randn(), 'c':randn()}\n",
      "series_created_from_a_dict=pd.Series(series_dict)\n",
      "print \"Series created from a dict\"\n",
      "print series_created_from_a_dict"
     ],
     "language": "python",
     "metadata": {},
     "outputs": [
      {
       "output_type": "stream",
       "stream": "stdout",
       "text": [
        "Series created from a dict\n",
        "a   -1.474590\n",
        "b    0.747321\n",
        "c    0.055798\n",
        "dtype: float64\n"
       ]
      }
     ],
     "prompt_number": 17
    },
    {
     "cell_type": "code",
     "collapsed": false,
     "input": [
      "#If only a single value is provided as an argument to series, then the value will be repeared throughout the Series object\n",
      "\n",
      "series_with_repeated_value=pd.Series(5)\n",
      "print \"Series with a repeating value\"\n",
      "print series_with_repeated_value\n",
      "\n",
      "#Aha! The value will appear only as many times as the index (which makes sense)\n",
      "\n",
      "series_with_repeated_value_2=pd.Series(5, ['a','a','b','c','e'])\n",
      "print \"Series with repeated value\"\n",
      "print series_with_repeated_value_2"
     ],
     "language": "python",
     "metadata": {},
     "outputs": [
      {
       "output_type": "stream",
       "stream": "stdout",
       "text": [
        "Series with a repeating value\n",
        "0    5\n",
        "dtype: int64\n",
        "Series with repeated value\n",
        "a    5\n",
        "a    5\n",
        "b    5\n",
        "c    5\n",
        "e    5\n",
        "dtype: int64\n"
       ]
      }
     ],
     "prompt_number": 20
    },
    {
     "cell_type": "code",
     "collapsed": false,
     "input": [
      "#Series behaves a lot like an ndarray\n",
      "\n",
      "series=pd.Series(randn(10), index=[range(10)])\n",
      "\n",
      "#1. We can retrieve an element at a certain index\n",
      "print \"First element in series\"\n",
      "print series[0]\n",
      "\n",
      "#2. We can slice to retrieve all but the last element\n",
      "print \"All elements but the last one\"\n",
      "print series[:-1]\n",
      "\n",
      "#3. We can slice based on values. For example, retrieve only values >=0\n",
      "print \"All elements with a value greater than\"\n",
      "print series[series>=0]\n",
      "\n",
      "#4. Pick out desired indices by slicing with a list of indices. For example, to retrieve elements in position 1 and 5\n",
      "print \"Elements in position 1 and 5\"\n",
      "print series[[1,5]]\n",
      "\n",
      "#5. Pass the series as an argument to a NumPy function"
     ],
     "language": "python",
     "metadata": {},
     "outputs": [
      {
       "output_type": "stream",
       "stream": "stdout",
       "text": [
        "First element in series\n",
        "0.773633746047\n",
        "All elements but the last one\n",
        "0    0.773634\n",
        "1    1.220938\n",
        "2   -0.976430\n",
        "3   -1.577820\n",
        "4   -0.913575\n",
        "5    0.451474\n",
        "6    0.513237\n",
        "7   -0.424992\n",
        "8   -2.154239\n",
        "dtype: float64\n",
        "All elements with a value greater than\n",
        "0    0.773634\n",
        "1    1.220938\n",
        "5    0.451474\n",
        "6    0.513237\n",
        "dtype: float64\n",
        "Elements in position 1 and 5\n",
        "1    1.220938\n",
        "5    0.451474\n",
        "dtype: float64\n"
       ]
      }
     ],
     "prompt_number": 25
    },
    {
     "cell_type": "code",
     "collapsed": false,
     "input": [],
     "language": "python",
     "metadata": {},
     "outputs": []
    },
    {
     "cell_type": "code",
     "collapsed": false,
     "input": [],
     "language": "python",
     "metadata": {},
     "outputs": []
    }
   ],
   "metadata": {}
  }
 ]
}