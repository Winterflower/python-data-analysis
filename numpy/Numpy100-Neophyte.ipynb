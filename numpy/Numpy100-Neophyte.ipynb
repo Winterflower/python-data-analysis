{
 "metadata": {
  "name": "",
  "signature": "sha256:dd398eb72ee658ead5f00cc9495887e63a3a969985c70b4e8931150a6470ecbe"
 },
 "nbformat": 3,
 "nbformat_minor": 0,
 "worksheets": [
  {
   "cells": [
    {
     "cell_type": "heading",
     "level": 1,
     "metadata": {},
     "source": [
      "Numpy 100 - Neophyte"
     ]
    },
    {
     "cell_type": "markdown",
     "metadata": {},
     "source": [
      "[Original tutorial](http://www.labri.fr/perso/nrougier/teaching/numpy.100/index.html)"
     ]
    },
    {
     "cell_type": "heading",
     "level": 3,
     "metadata": {},
     "source": [
      "Ex1: Importing Numpy under different names"
     ]
    },
    {
     "cell_type": "code",
     "collapsed": false,
     "input": [
      "#Importing numpy under different names\n",
      "#You don't want to have to type numpy everytime to access the attributes\n",
      "\n",
      "import numpy as np"
     ],
     "language": "python",
     "metadata": {},
     "outputs": [],
     "prompt_number": 20
    },
    {
     "cell_type": "heading",
     "level": 3,
     "metadata": {},
     "source": [
      "Ex2:Printing Numpy version and configuration"
     ]
    },
    {
     "cell_type": "code",
     "collapsed": false,
     "input": [
      "#Print Numpy version and numpy configuration\n",
      "print np.__version__\n",
      "np.__config__.show()\n",
      "#what is the config showing you?\n",
      "#what are all of these libraries"
     ],
     "language": "python",
     "metadata": {},
     "outputs": [
      {
       "output_type": "stream",
       "stream": "stdout",
       "text": [
        "1.9.1\n",
        "atlas_threads_info:\n",
        "  NOT AVAILABLE\n",
        "blas_opt_info:\n",
        "    libraries = ['f77blas', 'cblas', 'atlas']\n",
        "    library_dirs = ['/home/winterflower/anaconda/lib']\n",
        "    define_macros = [('ATLAS_INFO', '\"\\\\\"3.8.4\\\\\"\"')]\n",
        "    language = c\n",
        "atlas_blas_threads_info:\n",
        "  NOT AVAILABLE\n",
        "openblas_info:\n",
        "  NOT AVAILABLE\n",
        "lapack_opt_info:\n",
        "    libraries = ['lapack', 'f77blas', 'cblas', 'atlas']\n",
        "    library_dirs = ['/home/winterflower/anaconda/lib']\n",
        "    define_macros = [('ATLAS_INFO', '\"\\\\\"3.8.4\\\\\"\"')]\n",
        "    language = f77\n",
        "openblas_lapack_info:\n",
        "  NOT AVAILABLE\n",
        "atlas_info:\n",
        "    libraries = ['lapack', 'f77blas', 'cblas', 'atlas']\n",
        "    library_dirs = ['/home/winterflower/anaconda/lib']\n",
        "    define_macros = [('ATLAS_INFO', '\"\\\\\"3.8.4\\\\\"\"')]\n",
        "    language = f77\n",
        "lapack_mkl_info:\n",
        "  NOT AVAILABLE\n",
        "blas_mkl_info:\n",
        "  NOT AVAILABLE\n",
        "atlas_blas_info:\n",
        "    libraries = ['f77blas', 'cblas', 'atlas']\n",
        "    library_dirs = ['/home/winterflower/anaconda/lib']\n",
        "    define_macros = [('ATLAS_INFO', '\"\\\\\"3.8.4\\\\\"\"')]\n",
        "    language = c\n",
        "mkl_info:\n",
        "  NOT AVAILABLE\n"
       ]
      }
     ],
     "prompt_number": 21
    },
    {
     "cell_type": "heading",
     "level": 3,
     "metadata": {},
     "source": [
      "Ex3: Creating a null vector of size 10"
     ]
    },
    {
     "cell_type": "code",
     "collapsed": false,
     "input": [
      "null_vector=np.zeros(10)\n",
      "print null_vector"
     ],
     "language": "python",
     "metadata": {},
     "outputs": [
      {
       "output_type": "stream",
       "stream": "stdout",
       "text": [
        "[ 0.  0.  0.  0.  0.  0.  0.  0.  0.  0.]\n"
       ]
      }
     ],
     "prompt_number": 22
    },
    {
     "cell_type": "heading",
     "level": 3,
     "metadata": {},
     "source": [
      "Ex4: Null vector of size 10, but with 5th value 1"
     ]
    },
    {
     "cell_type": "code",
     "collapsed": false,
     "input": [
      "null_vector=np.zeros(10)\n",
      "null_vector[4]=1\n",
      "print null_vector"
     ],
     "language": "python",
     "metadata": {},
     "outputs": [
      {
       "output_type": "stream",
       "stream": "stdout",
       "text": [
        "[ 0.  0.  0.  0.  1.  0.  0.  0.  0.  0.]\n"
       ]
      }
     ],
     "prompt_number": 23
    },
    {
     "cell_type": "markdown",
     "metadata": {},
     "source": [
      "Ex5: Create a vector with values ranging from 10 to 49"
     ]
    },
    {
     "cell_type": "code",
     "collapsed": false,
     "input": [
      "range_vector=np.arange(10,50)\n",
      "print range_vector"
     ],
     "language": "python",
     "metadata": {},
     "outputs": [
      {
       "output_type": "stream",
       "stream": "stdout",
       "text": [
        "[10 11 12 13 14 15 16 17 18 19 20 21 22 23 24 25 26 27 28 29 30 31 32 33 34\n",
        " 35 36 37 38 39 40 41 42 43 44 45 46 47 48 49]\n"
       ]
      }
     ],
     "prompt_number": 24
    },
    {
     "cell_type": "heading",
     "level": 3,
     "metadata": {},
     "source": [
      "Ex6: Create a 3x3 Matrix with Values from 0 to 8"
     ]
    },
    {
     "cell_type": "code",
     "collapsed": false,
     "input": [
      "range_matrix=np.arange(0,9).reshape(3,3)\n",
      "print range_matrix"
     ],
     "language": "python",
     "metadata": {},
     "outputs": [
      {
       "output_type": "stream",
       "stream": "stdout",
       "text": [
        "[[0 1 2]\n",
        " [3 4 5]\n",
        " [6 7 8]]\n"
       ]
      }
     ],
     "prompt_number": 25
    },
    {
     "cell_type": "heading",
     "level": 3,
     "metadata": {},
     "source": [
      "Ex7: Find indices of nonzero elements from [1,2,0,0,4,0]"
     ]
    },
    {
     "cell_type": "code",
     "collapsed": false,
     "input": [
      "non_zero=np.nonzero([1,2,0,0,4,0])\n",
      "print non_zero\n",
      "#what is the object numpy.nonzero returns \n",
      "type(non_zero)\n",
      "#apparently a tuple"
     ],
     "language": "python",
     "metadata": {},
     "outputs": [
      {
       "output_type": "stream",
       "stream": "stdout",
       "text": [
        "(array([0, 1, 4]),)\n"
       ]
      },
      {
       "metadata": {},
       "output_type": "pyout",
       "prompt_number": 27,
       "text": [
        "tuple"
       ]
      }
     ],
     "prompt_number": 27
    },
    {
     "cell_type": "heading",
     "level": 3,
     "metadata": {},
     "source": [
      "Ex8: Create a 3x3 identity matrix"
     ]
    },
    {
     "cell_type": "code",
     "collapsed": false,
     "input": [
      "identity_matrix=np.eye(3)\n",
      "print identity_matrix"
     ],
     "language": "python",
     "metadata": {},
     "outputs": [
      {
       "output_type": "stream",
       "stream": "stdout",
       "text": [
        "[[ 1.  0.  0.]\n",
        " [ 0.  1.  0.]\n",
        " [ 0.  0.  1.]]\n"
       ]
      }
     ],
     "prompt_number": 28
    },
    {
     "cell_type": "code",
     "collapsed": false,
     "input": [],
     "language": "python",
     "metadata": {},
     "outputs": []
    }
   ],
   "metadata": {}
  }
 ]
}